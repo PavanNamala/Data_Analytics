{
 "cells": [
  {
   "cell_type": "markdown",
   "metadata": {
    "id": "_5CrEqY2imUg"
   },
   "source": [
    "## Slicing arrays\n",
    "Slicing in python means taking elements from one given index to another given index.\n",
    "\n",
    "We pass slice instead of index like this: [start:end].\n",
    "\n",
    "We can also define the step, like this: [start:end:step]."
   ]
  },
  {
   "cell_type": "code",
   "execution_count": 1,
   "metadata": {
    "colab": {
     "base_uri": "https://localhost:8080/"
    },
    "id": "pdWhl772g3g-",
    "outputId": "0c6b3d9d-2c5c-4f06-c268-c4179ca1bee6"
   },
   "outputs": [
    {
     "name": "stdout",
     "output_type": "stream",
     "text": [
      "[2 3 4 5]\n",
      "5\n"
     ]
    },
    {
     "data": {
      "text/plain": [
       "array([1, 2, 3, 4])"
      ]
     },
     "execution_count": 1,
     "metadata": {},
     "output_type": "execute_result"
    }
   ],
   "source": [
    "import numpy as np\n",
    "\n",
    "a1 = np.array([1, 2, 3, 4, 5, 6, 7])             # Slicing 1D Array\n",
    "\n",
    "print(a1[1:5])     # Slicing                                  # [start:end]\n",
    "print(a1[4])     # Indexing\n",
    "a1[:4]"
   ]
  },
  {
   "cell_type": "code",
   "execution_count": null,
   "metadata": {
    "id": "tpXK4B4bfE-M"
   },
   "outputs": [],
   "source": [
    "# print(a2)"
   ]
  },
  {
   "cell_type": "code",
   "execution_count": null,
   "metadata": {
    "colab": {
     "base_uri": "https://localhost:8080/"
    },
    "id": "MPrCVPQdg3jM",
    "outputId": "35572c23-fb63-4ea7-91e8-d1934656acb2"
   },
   "outputs": [
    {
     "data": {
      "text/plain": [
       "array([3, 8])"
      ]
     },
     "execution_count": 7,
     "metadata": {},
     "output_type": "execute_result"
    }
   ],
   "source": [
    "a2 = np.array([[1, 2, 3, 4, 5], [6, 7, 8, 9, 10]])      # Slicing 2D Array\n",
    "\n",
    "a2[1, 1:4]                                            # [row:column]\n",
    "a2[0:2, 2]\n",
    "# a2[1:, :5]"
   ]
  },
  {
   "cell_type": "code",
   "execution_count": null,
   "metadata": {
    "colab": {
     "base_uri": "https://localhost:8080/"
    },
    "id": "TdT6aw36f8hu",
    "outputId": "cd41a7d1-4bb7-48af-a4b4-8029fa9a3689"
   },
   "outputs": [
    {
     "data": {
      "text/plain": [
       "(2, 5)"
      ]
     },
     "execution_count": 5,
     "metadata": {},
     "output_type": "execute_result"
    }
   ],
   "source": [
    "a2.shape"
   ]
  },
  {
   "cell_type": "code",
   "execution_count": null,
   "metadata": {
    "id": "omk5lznDf8la"
   },
   "outputs": [],
   "source": [
    "# a3.shape"
   ]
  },
  {
   "cell_type": "code",
   "execution_count": null,
   "metadata": {
    "id": "6pFBv-tXg3lU"
   },
   "outputs": [],
   "source": [
    "a3 = np.array([[[10, 11, 12], [13, 14, 15], [16, 17, 18]],\n",
    "               [[20, 21, 22], [23, 24, 25], [26, 27, 28]],\n",
    "               [[30, 31, 32], [33, 34, 35], [36, 37, 38]]])           # # Slicing 3D Array"
   ]
  },
  {
   "cell_type": "code",
   "execution_count": null,
   "metadata": {
    "id": "sKv6yYKIg3nV"
   },
   "outputs": [],
   "source": [
    "# a3[:2,1:,:2]                                                          # [matrix:row:column]"
   ]
  },
  {
   "cell_type": "code",
   "execution_count": null,
   "metadata": {
    "colab": {
     "base_uri": "https://localhost:8080/"
    },
    "id": "yCIpXjHpm1LT",
    "outputId": "f0eacb0a-7888-44c2-d0bf-da2fd3c9918a"
   },
   "outputs": [
    {
     "data": {
      "text/plain": [
       "array([[[13, 14, 15],\n",
       "        [16, 17, 18]],\n",
       "\n",
       "       [[23, 24, 25],\n",
       "        [26, 27, 28]]])"
      ]
     },
     "execution_count": 31,
     "metadata": {},
     "output_type": "execute_result"
    }
   ],
   "source": [
    "a3[:2,1:,:]"
   ]
  },
  {
   "cell_type": "code",
   "execution_count": null,
   "metadata": {
    "id": "rCZViER-g3pR"
   },
   "outputs": [],
   "source": [
    "# a3[:2,1:,:2]"
   ]
  },
  {
   "cell_type": "code",
   "execution_count": null,
   "metadata": {
    "id": "CZBjzZ05g3rg"
   },
   "outputs": [],
   "source": []
  },
  {
   "cell_type": "code",
   "execution_count": null,
   "metadata": {
    "id": "pRGgqDZ1g3tB"
   },
   "outputs": [],
   "source": []
  },
  {
   "cell_type": "markdown",
   "metadata": {
    "id": "kwge9Pl45-gI"
   },
   "source": [
    "# View vs Copy\n",
    "\n",
    "Copy is a new array, and the View is just a view of the original array.\n",
    "\n",
    "Any changes made to the **copy** will not affect original array.\n",
    "\n",
    "Any changes made to the **view** will affect the original array."
   ]
  },
  {
   "cell_type": "code",
   "execution_count": null,
   "metadata": {
    "colab": {
     "base_uri": "https://localhost:8080/"
    },
    "id": "Ozoy9Dt_g3wD",
    "outputId": "a1566ae8-003b-42d8-be42-84efacd34d3d"
   },
   "outputs": [
    {
     "name": "stdout",
     "output_type": "stream",
     "text": [
      "[1 2 3 4 5]\n",
      "[42  2  3  4  5]\n"
     ]
    }
   ],
   "source": [
    "arr = np.array([1, 2, 3, 4, 5])\n",
    "\n",
    "# Copy Method\n",
    "\n",
    "copy = arr.copy()\n",
    "copy[0] = 42\n",
    "\n",
    "print(arr)\n",
    "print(copy)"
   ]
  },
  {
   "cell_type": "code",
   "execution_count": null,
   "metadata": {
    "id": "q8-l86P-sryy"
   },
   "outputs": [],
   "source": []
  },
  {
   "cell_type": "code",
   "execution_count": null,
   "metadata": {
    "colab": {
     "base_uri": "https://localhost:8080/"
    },
    "id": "Ayrq2SoW740N",
    "outputId": "56e18c59-db62-4e3e-8e6b-1f2d34002f5c"
   },
   "outputs": [
    {
     "name": "stdout",
     "output_type": "stream",
     "text": [
      "[42  2  3  4  5]\n",
      "[42  2  3  4  5]\n"
     ]
    }
   ],
   "source": [
    "# View Method\n",
    "\n",
    "view = arr.view()\n",
    "view[0] = 42\n",
    "\n",
    "print(arr)\n",
    "print(view)"
   ]
  },
  {
   "cell_type": "code",
   "execution_count": null,
   "metadata": {
    "id": "37qxM78675As"
   },
   "outputs": [],
   "source": []
  },
  {
   "cell_type": "code",
   "execution_count": null,
   "metadata": {
    "id": "Jv7goZnh75MU"
   },
   "outputs": [],
   "source": []
  },
  {
   "cell_type": "code",
   "execution_count": null,
   "metadata": {
    "id": "AsJD0IWMBJRP"
   },
   "outputs": [],
   "source": []
  },
  {
   "cell_type": "markdown",
   "metadata": {
    "id": "LYmG8dHtPIF8"
   },
   "source": [
    "# Append , Insert and Delete Operations"
   ]
  },
  {
   "cell_type": "code",
   "execution_count": null,
   "metadata": {
    "colab": {
     "base_uri": "https://localhost:8080/"
    },
    "id": "Y5K3wky1BJTa",
    "outputId": "d5d4b554-e1d2-4b2b-8a96-cfc734b677eb"
   },
   "outputs": [
    {
     "data": {
      "text/plain": [
       "array([[1, 2, 3, 5],\n",
       "       [4, 5, 6, 8]])"
      ]
     },
     "execution_count": 14,
     "metadata": {},
     "output_type": "execute_result"
    }
   ],
   "source": [
    "a = np.array([[1,2,3],\n",
    "              [4,5,6]])\n",
    "a.shape\n",
    "# Append Method\n",
    "\n",
    "np.append(a, [7,8,9])\n",
    "np.append(a, [[7,8,9]],axis = 0)                # axis = 0 = row , axis = 1 = col\n",
    "np.append(a, [[5],[8]],axis = 1)"
   ]
  },
  {
   "cell_type": "code",
   "execution_count": null,
   "metadata": {
    "id": "YEL9lATVujCu"
   },
   "outputs": [],
   "source": []
  },
  {
   "cell_type": "code",
   "execution_count": null,
   "metadata": {
    "id": "pRjS_0S0ujNa"
   },
   "outputs": [],
   "source": []
  },
  {
   "cell_type": "code",
   "execution_count": null,
   "metadata": {
    "colab": {
     "base_uri": "https://localhost:8080/"
    },
    "id": "TPOzFwGTPQSl",
    "outputId": "d76143d2-b5f6-4199-a954-fc1a2ced09ff"
   },
   "outputs": [
    {
     "data": {
      "text/plain": [
       "array([[ 1,  2],\n",
       "       [11, 12],\n",
       "       [ 3,  4],\n",
       "       [ 5,  6]])"
      ]
     },
     "execution_count": 16,
     "metadata": {},
     "output_type": "execute_result"
    }
   ],
   "source": [
    "a = np.array([[1,2],\n",
    "              [3,4],\n",
    "              [5,6]])\n",
    "\n",
    "# Insert Method\n",
    "\n",
    "np.insert(a,3,[11,12])\n",
    "np.insert(a,1,[11,12],axis = 0)\n",
    "# np.insert(a,1,[11,12,13],axis = 1)"
   ]
  },
  {
   "cell_type": "code",
   "execution_count": null,
   "metadata": {
    "id": "7rfnh_KmwUpO"
   },
   "outputs": [],
   "source": []
  },
  {
   "cell_type": "code",
   "execution_count": null,
   "metadata": {
    "id": "Q6qD5F6ewUs0"
   },
   "outputs": [],
   "source": []
  },
  {
   "cell_type": "code",
   "execution_count": null,
   "metadata": {
    "colab": {
     "base_uri": "https://localhost:8080/"
    },
    "id": "n_3V0lt7PQU1",
    "outputId": "e9c3ef8f-0a22-4426-b494-03c91ffa67e6"
   },
   "outputs": [
    {
     "data": {
      "text/plain": [
       "array([[ 1,  2,  3, 12],\n",
       "       [ 8,  4, 10,  7]])"
      ]
     },
     "execution_count": 19,
     "metadata": {},
     "output_type": "execute_result"
    }
   ],
   "source": [
    "a = np.array([[ 1,  2,  3, 12],\n",
    "              [ 9,  5,  6,  11],\n",
    "              [ 8,  4, 10, 7]])\n",
    "\n",
    "# Delete Method\n",
    "\n",
    "# np.delete(a,4)\n",
    "# np.delete(a,1,axis = 1)\n",
    "np.delete(a,1,axis = 0)"
   ]
  },
  {
   "cell_type": "code",
   "execution_count": null,
   "metadata": {
    "id": "rdE7TUaDPQZ4"
   },
   "outputs": [],
   "source": [
    "# np.ndim(a)"
   ]
  },
  {
   "cell_type": "code",
   "execution_count": null,
   "metadata": {
    "id": "whS_RV9cPQis"
   },
   "outputs": [],
   "source": []
  },
  {
   "cell_type": "code",
   "execution_count": null,
   "metadata": {
    "id": "RhURBzwzPQk-"
   },
   "outputs": [],
   "source": []
  },
  {
   "cell_type": "markdown",
   "metadata": {
    "id": "k7DcE6R1BKfX"
   },
   "source": [
    "# Hstack vs Vstack\n",
    "\n",
    "Hstack is used to join two arrays **Horizontally**.\n",
    "\n",
    "Vstack is used to join two arrays **Vertically**.\n"
   ]
  },
  {
   "cell_type": "code",
   "execution_count": null,
   "metadata": {
    "id": "ANnI5Qaonnwp"
   },
   "outputs": [],
   "source": [
    "import numpy as np"
   ]
  },
  {
   "cell_type": "code",
   "execution_count": null,
   "metadata": {
    "id": "9siOHvOXBJVi"
   },
   "outputs": [],
   "source": [
    "a = np.array([1, 2, 3])\n",
    "b = np.array([4, 5, 6])"
   ]
  },
  {
   "cell_type": "code",
   "execution_count": null,
   "metadata": {
    "colab": {
     "base_uri": "https://localhost:8080/"
    },
    "id": "psDC18pQBJXo",
    "outputId": "a97b254c-c530-4cd8-c5c9-ad235bfd7720"
   },
   "outputs": [
    {
     "name": "stdout",
     "output_type": "stream",
     "text": [
      "[1 2 3] [4 5 6]\n",
      "1 1\n"
     ]
    }
   ],
   "source": [
    "print(a,b)\n",
    "print(np.ndim(a), np.ndim(b))"
   ]
  },
  {
   "cell_type": "code",
   "execution_count": null,
   "metadata": {
    "colab": {
     "base_uri": "https://localhost:8080/"
    },
    "id": "s88-QDBBBJZ6",
    "outputId": "0e203a41-e4ea-4c72-c5e1-3f253bf8fd26"
   },
   "outputs": [
    {
     "name": "stdout",
     "output_type": "stream",
     "text": [
      "[1 2 3 4 5 6]\n",
      "1\n"
     ]
    }
   ],
   "source": [
    "# Performing Hstack\n",
    "\n",
    "result = np.hstack((a,b))\n",
    "\n",
    "print(result)\n",
    "print(np.ndim(result))"
   ]
  },
  {
   "cell_type": "code",
   "execution_count": null,
   "metadata": {
    "colab": {
     "base_uri": "https://localhost:8080/"
    },
    "id": "4NU5OftUDl5h",
    "outputId": "57609421-a9ed-4efe-e51d-f98a07b121b6"
   },
   "outputs": [
    {
     "name": "stdout",
     "output_type": "stream",
     "text": [
      "[[1 2 3]\n",
      " [4 5 6]] 2\n"
     ]
    }
   ],
   "source": [
    "# Performing Vstack\n",
    "\n",
    "result = np.vstack((a,b))\n",
    "\n",
    "print(result, np.ndim(result))"
   ]
  },
  {
   "cell_type": "code",
   "execution_count": null,
   "metadata": {
    "id": "rXXsBsxUDl78"
   },
   "outputs": [],
   "source": []
  },
  {
   "cell_type": "code",
   "execution_count": null,
   "metadata": {
    "id": "IS_KHhWbDl-t"
   },
   "outputs": [],
   "source": []
  },
  {
   "cell_type": "code",
   "execution_count": null,
   "metadata": {
    "id": "-hbic_I5DmBq"
   },
   "outputs": [],
   "source": []
  },
  {
   "cell_type": "markdown",
   "metadata": {
    "id": "Mh1rrauKETDN"
   },
   "source": [
    "# Numpy Concatenation\n",
    "\n",
    "It is used for joining two or more arrays of the same shape along a specified axis.\n",
    "\n",
    "Axis = 0, Adding new rows\n",
    "\n",
    "Axis = 1, Adding new columns\n"
   ]
  },
  {
   "cell_type": "code",
   "execution_count": null,
   "metadata": {
    "colab": {
     "base_uri": "https://localhost:8080/"
    },
    "id": "YjMeNhqJEmO7",
    "outputId": "51ebec75-411f-409a-cb60-c9f9265d9011"
   },
   "outputs": [
    {
     "name": "stdout",
     "output_type": "stream",
     "text": [
      "(2, 1) (2, 1)\n"
     ]
    }
   ],
   "source": [
    "arr1 = np.array([[2, 4], [6, 8]])\n",
    "arr2 = np.array([[3, 5], [7, 9]])\n",
    "\n",
    "# print(arr1.shape,arr2.shape)\n",
    "\n",
    "arr3 = np.array([[3], [9]])\n",
    "arr4 = np.array([[4] , [8]])\n",
    "\n",
    "print(arr3.shape,arr4.shape)\n",
    "\n",
    "new = np.concatenate((arr1, arr2), axis = 0)\n",
    "\n",
    "# print(new, new.shape)"
   ]
  },
  {
   "cell_type": "code",
   "execution_count": null,
   "metadata": {
    "colab": {
     "base_uri": "https://localhost:8080/"
    },
    "id": "jcrws4QsHPQV",
    "outputId": "c1ea07a2-0f8b-4ed7-c84b-f51965a0c2c6"
   },
   "outputs": [
    {
     "name": "stdout",
     "output_type": "stream",
     "text": [
      "[[3 4]\n",
      " [9 8]]\n"
     ]
    }
   ],
   "source": [
    "new = np.concatenate((arr3, arr4), axis = 1)\n",
    "\n",
    "print(new)"
   ]
  },
  {
   "cell_type": "code",
   "execution_count": null,
   "metadata": {
    "id": "b45Rtjh_HPTe"
   },
   "outputs": [],
   "source": []
  },
  {
   "cell_type": "code",
   "execution_count": null,
   "metadata": {
    "id": "5-s_jRJNHPWI"
   },
   "outputs": [],
   "source": []
  }
 ],
 "metadata": {
  "colab": {
   "provenance": []
  },
  "kernelspec": {
   "display_name": "Python 3 (ipykernel)",
   "language": "python",
   "name": "python3"
  },
  "language_info": {
   "codemirror_mode": {
    "name": "ipython",
    "version": 3
   },
   "file_extension": ".py",
   "mimetype": "text/x-python",
   "name": "python",
   "nbconvert_exporter": "python",
   "pygments_lexer": "ipython3",
   "version": "3.12.4"
  }
 },
 "nbformat": 4,
 "nbformat_minor": 4
}
